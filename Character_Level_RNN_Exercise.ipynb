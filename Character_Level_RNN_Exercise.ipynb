{
  "cells": [
    {
      "cell_type": "markdown",
      "metadata": {
        "id": "view-in-github",
        "colab_type": "text"
      },
      "source": [
        "<a href=\"https://colab.research.google.com/github/aljebraschool/Character_level_LSTM_model/blob/main/Character_Level_RNN_Exercise.ipynb\" target=\"_parent\"><img src=\"https://colab.research.google.com/assets/colab-badge.svg\" alt=\"Open In Colab\"/></a>"
      ]
    },
    {
      "cell_type": "markdown",
      "metadata": {
        "id": "p_5jAwI3sbOk"
      },
      "source": [
        "# Character-Level LSTM in PyTorch\n",
        "\n",
        "In this notebook, I'll construct a character-level LSTM with PyTorch. The network will train character by character on some text, then generate new text character by character. As an example, I will train on Anna Karenina. **This model will be able to generate new text based on the text from the book!**\n",
        "\n",
        "This network is based off of Andrej Karpathy's [post on RNNs](http://karpathy.github.io/2015/05/21/rnn-effectiveness/) and [implementation in Torch](https://github.com/karpathy/char-rnn). Below is the general architecture of the character-wise RNN.\n",
        "\n",
        "<img src=\"https://github.com/udacity/deep-learning-v2-pytorch/blob/master/recurrent-neural-networks/char-rnn/assets/charseq.jpeg?raw=1\" width=\"500\">"
      ]
    },
    {
      "cell_type": "markdown",
      "metadata": {
        "id": "3LmHbvRXsbOr"
      },
      "source": [
        "First let's load in our required resources for data loading and model creation."
      ]
    },
    {
      "cell_type": "code",
      "execution_count": null,
      "metadata": {
        "collapsed": true,
        "id": "zhfyZr_KsbOs"
      },
      "outputs": [],
      "source": [
        "import numpy as np\n",
        "import torch\n",
        "from torch import nn\n",
        "import torch.nn.functional as F"
      ]
    },
    {
      "cell_type": "markdown",
      "metadata": {
        "id": "L7I2W2X1sbOu"
      },
      "source": [
        "## Load in Data\n",
        "\n",
        "Then, we'll load the Anna Karenina text file and convert it into integers for our network to use."
      ]
    },
    {
      "cell_type": "code",
      "execution_count": null,
      "metadata": {
        "collapsed": true,
        "id": "55ltB2OlsbOu"
      },
      "outputs": [],
      "source": [
        "# open text file and read in data as `text`\n",
        "with open('/content/anna.txt', 'r') as f:\n",
        "    text = f.read()"
      ]
    },
    {
      "cell_type": "markdown",
      "metadata": {
        "id": "cSFZLpGusbOv"
      },
      "source": [
        "Let's check out the first 100 characters, make sure everything is peachy. According to the [American Book Review](http://americanbookreview.org/100bestlines.asp), this is the 6th best first line of a book ever."
      ]
    },
    {
      "cell_type": "code",
      "execution_count": null,
      "metadata": {
        "collapsed": true,
        "id": "SiHvzY0msbOv",
        "colab": {
          "base_uri": "https://localhost:8080/"
        },
        "outputId": "fb5af3e1-5cbc-480f-9908-48cfb9a227d7"
      },
      "outputs": [
        {
          "output_type": "execute_result",
          "data": {
            "text/plain": [
              "str"
            ]
          },
          "metadata": {},
          "execution_count": 8
        }
      ],
      "source": [
        "#print the first 100 characters\n",
        "text[:100]\n",
        "\n",
        "#check data type\n",
        "type(text)"
      ]
    },
    {
      "cell_type": "markdown",
      "metadata": {
        "id": "PoeD-x2KsbOw"
      },
      "source": [
        "### Tokenization\n",
        "\n",
        "In the cells, below, I'm creating a couple of **dictionaries** to convert the characters to and from integers. Encoding the characters as integers makes it easier to use as input in the network."
      ]
    },
    {
      "cell_type": "code",
      "execution_count": null,
      "metadata": {
        "collapsed": true,
        "id": "lmohu_2RsbOx",
        "colab": {
          "base_uri": "https://localhost:8080/"
        },
        "outputId": "8c79241e-cc96-4c05-ce1f-a4147b2bb06b"
      },
      "outputs": [
        {
          "output_type": "stream",
          "name": "stdout",
          "text": [
            "{'C': 0, 'Z': 1, 'l': 2, 'F': 3, 'N': 4, 'A': 5, 'n': 6, 'u': 7, '6': 8, \"'\": 9, 'E': 10, 'K': 11, 'o': 12, '\\n': 13, 'i': 14, 'J': 15, 'R': 16, 'X': 17, 'P': 18, 'p': 19, 'c': 20, '4': 21, ' ': 22, ';': 23, '1': 24, 'S': 25, '2': 26, 'm': 27, 'v': 28, 'G': 29, 'y': 30, 'x': 31, 'B': 32, 'a': 33, 'T': 34, 'Y': 35, 'M': 36, 'g': 37, '%': 38, 'w': 39, 'h': 40, '_': 41, 'Q': 42, 'V': 43, 'd': 44, 'q': 45, 'b': 46, '7': 47, 'k': 48, '3': 49, '9': 50, '5': 51, 't': 52, 'D': 53, 'I': 54, 'r': 55, '/': 56, '*': 57, ':': 58, '-': 59, 'j': 60, 'e': 61, '?': 62, '&': 63, '\"': 64, '(': 65, ',': 66, 'O': 67, '0': 68, '$': 69, 'z': 70, 'L': 71, '@': 72, '8': 73, 'H': 74, 'U': 75, 'f': 76, 's': 77, '!': 78, ')': 79, 'W': 80, '`': 81, '.': 82}\n",
            "[ 0 40 33 19 52 61 55 22 24 13 13 13 74 33 19 19 30 22 76 33 27 14  2 14\n",
            " 61 77 22 33 55 61 22 33  2  2 22 33  2 14 48 61 23 22 61 28 61 55 30 22\n",
            "  7  6 40 33 19 19 30 22 76 33 27 14  2 30 22 14 77 22  7  6 40 33 19 19\n",
            " 30 22 14  6 22 14 52 77 22 12 39  6 13 39 33 30 82 13 13 10 28 61 55 30\n",
            " 52 40 14  6]\n"
          ]
        }
      ],
      "source": [
        "# encode the text and map each character to an integer and vice versa\n",
        "\n",
        "# we create two dictionaries:\n",
        "# 1. int2char, which maps integers to characters\n",
        "# 2. char2int, which maps characters to unique integers\n",
        "\n",
        "#create a unique set of character returned as tuple\n",
        "chars = tuple(set(text))\n",
        "\n",
        "#a dictionary to give every character unique number\n",
        "dictionary = {}\n",
        "\n",
        "#loop through and assign each character a unique number\n",
        "for index, char in enumerate(chars):\n",
        "  dictionary[char] = index\n",
        "\n",
        "print(dictionary)\n",
        "\n",
        "#now pass each string text to our dictionary to get unique index as representation\n",
        "encode_text = np.array([dictionary[word] for word in text])\n",
        "\n",
        "print(encode_text[:100])"
      ]
    },
    {
      "cell_type": "code",
      "source": [
        "# encode the text and map each character to an integer and vice versa (using another approach)\n",
        "#loop through and assign each character a unique numb\n",
        "int2char = dict(enumerate(chars))\n",
        "char2int = {ch: ii for ii, ch in int2char.items()}\n",
        "\n",
        "print(char2int)\n",
        "\n",
        "# encode the text\n",
        "encoded = np.array([char2int[ch] for ch in text])"
      ],
      "metadata": {
        "colab": {
          "base_uri": "https://localhost:8080/"
        },
        "id": "347xNWXsEgzw",
        "outputId": "139b7365-dd5a-492b-d4bc-055a9a4a9aee"
      },
      "execution_count": null,
      "outputs": [
        {
          "output_type": "stream",
          "name": "stdout",
          "text": [
            "{'C': 0, 'Z': 1, 'l': 2, 'F': 3, 'N': 4, 'A': 5, 'n': 6, 'u': 7, '6': 8, \"'\": 9, 'E': 10, 'K': 11, 'o': 12, '\\n': 13, 'i': 14, 'J': 15, 'R': 16, 'X': 17, 'P': 18, 'p': 19, 'c': 20, '4': 21, ' ': 22, ';': 23, '1': 24, 'S': 25, '2': 26, 'm': 27, 'v': 28, 'G': 29, 'y': 30, 'x': 31, 'B': 32, 'a': 33, 'T': 34, 'Y': 35, 'M': 36, 'g': 37, '%': 38, 'w': 39, 'h': 40, '_': 41, 'Q': 42, 'V': 43, 'd': 44, 'q': 45, 'b': 46, '7': 47, 'k': 48, '3': 49, '9': 50, '5': 51, 't': 52, 'D': 53, 'I': 54, 'r': 55, '/': 56, '*': 57, ':': 58, '-': 59, 'j': 60, 'e': 61, '?': 62, '&': 63, '\"': 64, '(': 65, ',': 66, 'O': 67, '0': 68, '$': 69, 'z': 70, 'L': 71, '@': 72, '8': 73, 'H': 74, 'U': 75, 'f': 76, 's': 77, '!': 78, ')': 79, 'W': 80, '`': 81, '.': 82}\n"
          ]
        }
      ]
    },
    {
      "cell_type": "markdown",
      "metadata": {
        "id": "MPoObTDmsbOy"
      },
      "source": [
        "And we can see those same characters from above, encoded as integers."
      ]
    },
    {
      "cell_type": "code",
      "execution_count": null,
      "metadata": {
        "collapsed": true,
        "id": "dvrPGgcAsbOy",
        "colab": {
          "base_uri": "https://localhost:8080/"
        },
        "outputId": "09779dd1-4d2a-48b0-90bb-91db27d2bb28"
      },
      "outputs": [
        {
          "output_type": "execute_result",
          "data": {
            "text/plain": [
              "array([ 0, 40, 33, 19, 52, 61, 55, 22, 24, 13, 13, 13, 74, 33, 19, 19, 30,\n",
              "       22, 76, 33, 27, 14,  2, 14, 61, 77, 22, 33, 55, 61, 22, 33,  2,  2,\n",
              "       22, 33,  2, 14, 48, 61, 23, 22, 61, 28, 61, 55, 30, 22,  7,  6, 40,\n",
              "       33, 19, 19, 30, 22, 76, 33, 27, 14,  2, 30, 22, 14, 77, 22,  7,  6,\n",
              "       40, 33, 19, 19, 30, 22, 14,  6, 22, 14, 52, 77, 22, 12, 39,  6, 13,\n",
              "       39, 33, 30, 82, 13, 13, 10, 28, 61, 55, 30, 52, 40, 14,  6])"
            ]
          },
          "metadata": {},
          "execution_count": 13
        }
      ],
      "source": [
        "#see the first 100 encoded characters\n",
        "encoded[:100]\n"
      ]
    },
    {
      "cell_type": "markdown",
      "metadata": {
        "id": "UJ2FdJn0sbOz"
      },
      "source": [
        "## Pre-processing the data\n",
        "\n",
        "As you can see in our char-RNN image above, our LSTM expects an input that is **one-hot encoded** meaning that each character is converted into an integer (via our created dictionary) and *then* converted into a column vector where only it's corresponding integer index will have the value of 1 and the rest of the vector will be filled with 0's. Since we're one-hot encoding the data, let's make a function to do that!\n"
      ]
    },
    {
      "cell_type": "code",
      "execution_count": null,
      "metadata": {
        "collapsed": true,
        "id": "79-kDUujsbOz"
      },
      "outputs": [],
      "source": [
        "def one_hot_encode(arr, n_labels):\n",
        "\n",
        "    # Initialize the encoded array with zero using the array size as row and labels\n",
        "    one_hot = np.zeros((arr.size, n_labels), dtype=np.float32)\n",
        "\n",
        "    # Fill the appropriate elements with ones (get the first index in the one_hot variable (arr.size)) use that as row\n",
        "    # flatten the arr data as in (row * col) use that as col so we have (one_hot[(0, 1, ... 5), 6 ]) if arr is (2, 3)\n",
        "    #then assign 1 to this index as one_hot[1, 6] = 1\n",
        "    one_hot[np.arange(one_hot.shape[0]), arr.flatten()] = 1.\n",
        "\n",
        "    # Finally reshape it to get back to the original array. if the array is (2, 3) use * to unpack it as (2 * 3 = 6)\n",
        "    one_hot = one_hot.reshape((*arr.shape, n_labels))\n",
        "\n",
        "    return one_hot"
      ]
    },
    {
      "cell_type": "code",
      "execution_count": null,
      "metadata": {
        "collapsed": true,
        "id": "VCPOnMH6sbOz",
        "colab": {
          "base_uri": "https://localhost:8080/"
        },
        "outputId": "9ce3bb33-1538-40fa-8c9d-62663111be2b"
      },
      "outputs": [
        {
          "output_type": "stream",
          "name": "stdout",
          "text": [
            "[[0. 0. 0. 1. 0. 0. 0. 0.]\n",
            " [0. 0. 0. 0. 0. 1. 0. 0.]\n",
            " [0. 1. 0. 0. 0. 0. 0. 0.]]\n"
          ]
        }
      ],
      "source": [
        "# check that the function works as expected\n",
        "test_seq = np.array([3, 5, 1])\n",
        "one_hot = one_hot_encode(test_seq, 8)\n",
        "\n",
        "print(one_hot)"
      ]
    },
    {
      "cell_type": "markdown",
      "metadata": {
        "id": "AmoVNN3WsbO0"
      },
      "source": [
        "## Making training mini-batches\n",
        "\n",
        "\n",
        "To train on this data, we also want to create mini-batches for training. Remember that we want our batches to be multiple sequences of some desired number of sequence steps. Considering a simple example, our batches would look like this:\n",
        "\n",
        "<img src=\"https://github.com/udacity/deep-learning-v2-pytorch/blob/master/recurrent-neural-networks/char-rnn/assets/sequence_batching@1x.png?raw=1\" width=500px>\n",
        "\n",
        "\n",
        "<br>\n",
        "\n",
        "In this example, we'll take the encoded characters (passed in as the `arr` parameter) and split them into multiple sequences, given by `batch_size`. Each of our sequences will be `seq_length` long.\n",
        "\n",
        "### Creating Batches\n",
        "\n",
        "**1. The first thing we need to do is discard some of the text so we only have completely full mini-batches. **\n",
        "\n",
        "Each batch contains $N \\times M$ characters, where $N$ is the batch size (the number of sequences in a batch) and $M$ is the seq_length or number of time steps in a sequence. Then, to get the total number of batches, $K$, that we can make from the array `arr`, you divide the length of `arr` by the number of characters per batch. Once you know the number of batches, you can get the total number of characters to keep from `arr`, $N * M * K$.\n",
        "\n",
        "**2. After that, we need to split `arr` into $N$ batches. **\n",
        "\n",
        "You can do this using `arr.reshape(size)` where `size` is a tuple containing the dimensions sizes of the reshaped array. We know we want $N$ sequences in a batch, so let's make that the size of the first dimension. For the second dimension, you can use `-1` as a placeholder in the size, it'll fill up the array with the appropriate data for you. After this, you should have an array that is $N \\times (M * K)$.\n",
        "\n",
        "**3. Now that we have this array, we can iterate through it to get our mini-batches. **\n",
        "\n",
        "The idea is each batch is a $N \\times M$ window on the $N \\times (M * K)$ array. For each subsequent batch, the window moves over by `seq_length`. We also want to create both the input and target arrays. Remember that the targets are just the inputs shifted over by one character. The way I like to do this window is use `range` to take steps of size `n_steps` from $0$ to `arr.shape[1]`, the total number of tokens in each sequence. That way, the integers you get from `range` always point to the start of a batch, and each window is `seq_length` wide.\n",
        "\n",
        "> **TODO:** Write the code for creating batches in the function below. The exercises in this notebook _will not be easy_. I've provided a notebook with solutions alongside this notebook. If you get stuck, checkout the solutions. The most important thing is that you don't copy and paste the code into here, **type out the solution code yourself.**"
      ]
    },
    {
      "cell_type": "code",
      "execution_count": null,
      "metadata": {
        "collapsed": true,
        "id": "Cl7R-VecsbO0"
      },
      "outputs": [],
      "source": [
        "def get_batches(arr, batch_size, seq_length):\n",
        "    '''Create a generator that returns batches of size\n",
        "       batch_size x seq_length from arr.\n",
        "\n",
        "       Arguments\n",
        "       ---------\n",
        "       arr: Array you want to make batches from\n",
        "       batch_size: Batch size, the number of sequences per batch\n",
        "       seq_length: Number of encoded chars in a sequence\n",
        "    '''\n",
        "\n",
        "    ## TODO: Get the number of batches we can make (total array length / N * M)\n",
        "    n_batches = len(arr) // (batch_size * seq_length)\n",
        "\n",
        "    ## TODO: Keep only enough characters to make full batches (N * M * K (except last))\n",
        "    arr = arr[: batch_size * seq_length * n_batches]\n",
        "\n",
        "    ## TODO: Reshape into batch_size rows\n",
        "    arr = arr.reshape(batch_size, -1)\n",
        "\n",
        "    ## TODO: Iterate over the batches using a window of size seq_length\n",
        "    for n in range(0, arr.shape[1], seq_length):\n",
        "        # The features which uses the data(array) with row\n",
        "        x = arr[:, n:n + seq_length]\n",
        "        # The targets, shifted by one\n",
        "        y = np.zeros_like(x)\n",
        "\n",
        "        try:\n",
        "          y[:, :-1], y[:, -1] = x[:, 1:], arr[:, n + seq_length]\n",
        "\n",
        "        except IndexError:\n",
        "\n",
        "          y[:, :-1], y[:, -1] = x[:, 1:], arr[:, 0]\n",
        "\n",
        "        yield x, y"
      ]
    },
    {
      "cell_type": "markdown",
      "metadata": {
        "id": "1V7tCLZOsbO1"
      },
      "source": [
        "### Test Your Implementation\n",
        "\n",
        "Now I'll make some data sets and we can check out what's going on as we batch data. Here, as an example, I'm going to use a batch size of 8 and 50 sequence steps."
      ]
    },
    {
      "cell_type": "code",
      "execution_count": null,
      "metadata": {
        "collapsed": true,
        "id": "r0vAVy2-sbO1"
      },
      "outputs": [],
      "source": [
        "batches = get_batches(encoded, 8, 50)\n",
        "x, y = next(batches)"
      ]
    },
    {
      "cell_type": "code",
      "execution_count": null,
      "metadata": {
        "collapsed": true,
        "id": "ZJ6jDM46sbO1",
        "colab": {
          "base_uri": "https://localhost:8080/"
        },
        "outputId": "14c3bb5e-3ec8-486c-b2a6-5ec928e55a92"
      },
      "outputs": [
        {
          "output_type": "stream",
          "name": "stdout",
          "text": [
            "x\n",
            " [[37 49 28 51 36 65 33 73 32 34]\n",
            " [ 6 70 11 73 36 49 28 36 73 28]\n",
            " [65 11  0 73 70 33 73 28 73 26]\n",
            " [ 6 73 36 49 65 73 61 49 57 65]\n",
            " [73  6 28 75 73 49 65 33 73 36]\n",
            " [61 63  6  6 57 70 11 73 28 11]\n",
            " [73  5 11 11 28 73 49 28  0 73]\n",
            " [24 14 67 70 11  6 27  3 38 73]]\n",
            "\n",
            "y\n",
            " [[49 28 51 36 65 33 73 32 34 34]\n",
            " [70 11 73 36 49 28 36 73 28 36]\n",
            " [11  0 73 70 33 73 28 73 26 70]\n",
            " [73 36 49 65 73 61 49 57 65 26]\n",
            " [ 6 28 75 73 49 65 33 73 36 65]\n",
            " [63  6  6 57 70 11 73 28 11  0]\n",
            " [ 5 11 11 28 73 49 28  0 73  6]\n",
            " [14 67 70 11  6 27  3 38 73 44]]\n"
          ]
        }
      ],
      "source": [
        "# printing out the first 10 items in a sequence\n",
        "print('x\\n', x[:10, :10])\n",
        "print('\\ny\\n', y[:10, :10])"
      ]
    },
    {
      "cell_type": "markdown",
      "metadata": {
        "id": "Kx4kDAfusbO2"
      },
      "source": [
        "If you implemented `get_batches` correctly, the above output should look something like\n",
        "```\n",
        "x\n",
        " [[25  8 60 11 45 27 28 73  1  2]\n",
        " [17  7 20 73 45  8 60 45 73 60]\n",
        " [27 20 80 73  7 28 73 60 73 65]\n",
        " [17 73 45  8 27 73 66  8 46 27]\n",
        " [73 17 60 12 73  8 27 28 73 45]\n",
        " [66 64 17 17 46  7 20 73 60 20]\n",
        " [73 76 20 20 60 73  8 60 80 73]\n",
        " [47 35 43  7 20 17 24 50 37 73]]\n",
        "\n",
        "y\n",
        " [[ 8 60 11 45 27 28 73  1  2  2]\n",
        " [ 7 20 73 45  8 60 45 73 60 45]\n",
        " [20 80 73  7 28 73 60 73 65  7]\n",
        " [73 45  8 27 73 66  8 46 27 65]\n",
        " [17 60 12 73  8 27 28 73 45 27]\n",
        " [64 17 17 46  7 20 73 60 20 80]\n",
        " [76 20 20 60 73  8 60 80 73 17]\n",
        " [35 43  7 20 17 24 50 37 73 36]]\n",
        " ```\n",
        " although the exact numbers may be different. Check to make sure the data is shifted over one step for `y`."
      ]
    },
    {
      "cell_type": "markdown",
      "metadata": {
        "id": "9LPmqtm3sbO2"
      },
      "source": [
        "---\n",
        "## Defining the network with PyTorch\n",
        "\n",
        "Below is where you'll define the network.\n",
        "\n",
        "<img src=\"https://github.com/udacity/deep-learning-v2-pytorch/blob/master/recurrent-neural-networks/char-rnn/assets/charRNN.png?raw=1\" width=500px>\n",
        "\n",
        "Next, you'll use PyTorch to define the architecture of the network. We start by defining the layers and operations we want. Then, define a method for the forward pass. You've also been given a method for predicting characters."
      ]
    },
    {
      "cell_type": "markdown",
      "metadata": {
        "id": "pJE8cSnXsbO2"
      },
      "source": [
        "### Model Structure\n",
        "\n",
        "In `__init__` the suggested structure is as follows:\n",
        "* Create and store the necessary dictionaries (this has been done for you)\n",
        "* Define an LSTM layer that takes as params: an input size (the number of characters), a hidden layer size `n_hidden`, a number of layers `n_layers`, a dropout probability `drop_prob`, and a batch_first boolean (True, since we are batching)\n",
        "* Define a dropout layer with `drop_prob`\n",
        "* Define a fully-connected layer with params: input size `n_hidden` and output size (the number of characters)\n",
        "* Finally, initialize the weights (again, this has been given)\n",
        "\n",
        "Note that some parameters have been named and given in the `__init__` function, and we use them and store them by doing something like `self.drop_prob = drop_prob`."
      ]
    },
    {
      "cell_type": "markdown",
      "metadata": {
        "id": "4eriThJ7sbO3"
      },
      "source": [
        "---\n",
        "### LSTM Inputs/Outputs\n",
        "\n",
        "You can create a basic [LSTM layer](https://pytorch.org/docs/stable/nn.html#lstm) as follows\n",
        "\n",
        "```python\n",
        "self.lstm = nn.LSTM(input_size, n_hidden, n_layers,\n",
        "                            dropout=drop_prob, batch_first=True)\n",
        "```\n",
        "\n",
        "where `input_size` is the number of characters this cell expects to see as sequential input, and `n_hidden` is the number of units in the hidden layers in the cell. And we can add dropout by adding a dropout parameter with a specified probability; this will automatically add dropout to the inputs or outputs. Finally, in the `forward` function, we can stack up the LSTM cells into layers using `.view`. With this, you pass in a list of cells and it will send the output of one cell into the next cell.\n",
        "\n",
        "We also need to create an initial hidden state of all zeros. This is done like so\n",
        "\n",
        "```python\n",
        "self.init_hidden()\n",
        "```"
      ]
    },
    {
      "cell_type": "code",
      "execution_count": null,
      "metadata": {
        "collapsed": true,
        "id": "_rXTZm5JsbO3",
        "colab": {
          "base_uri": "https://localhost:8080/"
        },
        "outputId": "fbac018b-99bd-4f92-8f4d-406445622c95"
      },
      "outputs": [
        {
          "output_type": "stream",
          "name": "stdout",
          "text": [
            "Training on GPU!\n"
          ]
        }
      ],
      "source": [
        "# check if GPU is available\n",
        "train_on_gpu = torch.cuda.is_available()\n",
        "if(train_on_gpu):\n",
        "    print('Training on GPU!')\n",
        "else:\n",
        "    print('No GPU available, training on CPU; consider making n_epochs very small.')"
      ]
    },
    {
      "cell_type": "code",
      "execution_count": null,
      "metadata": {
        "collapsed": true,
        "id": "wK61vghDsbO3"
      },
      "outputs": [],
      "source": [
        "\n",
        "class CharRNN(nn.Module):\n",
        "\n",
        "    def __init__(self, tokens, n_hidden=256, n_layers=2,\n",
        "                               drop_prob=0.6, lr=0.001):\n",
        "        super().__init__()\n",
        "        self.drop_prob = drop_prob\n",
        "        self.n_layers = n_layers\n",
        "        self.n_hidden = n_hidden\n",
        "        self.lr = lr\n",
        "\n",
        "        # creating character dictionaries\n",
        "        self.chars = tokens\n",
        "        self.int2char = dict(enumerate(self.chars))\n",
        "        self.char2int = {ch: ii for ii, ch in self.int2char.items()}\n",
        "\n",
        "        ## TODO: define the layers of the model\n",
        "        self.lstm = nn.LSTM(len(self.chars), n_hidden, n_layers, dropout = drop_prob, batch_first = True)\n",
        "\n",
        "\n",
        "\n",
        "        #Define a dropout layer\n",
        "        self.dropout = nn.Dropout(drop_prob)\n",
        "\n",
        "        #Define a fully connected layer\n",
        "        self.fc = nn.Linear(n_hidden, len(self.chars))\n",
        "\n",
        "\n",
        "    def forward(self, x, hidden):\n",
        "        ''' Forward pass through the network.\n",
        "            These inputs are x, and the hidden/cell state `hidden`. '''\n",
        "\n",
        "        ## TODO: Get the outputs and the new hidden state from the lstm\n",
        "        r_output, hidden = self.lstm(x, hidden)\n",
        "\n",
        "        #apply dropout to the rnn output\n",
        "        out = self.dropout(r_output)\n",
        "\n",
        "        #reshape the rnn dropout using contguous\n",
        "        out = out.contiguous().view(-1, self.n_hidden)\n",
        "\n",
        "\n",
        "        #pass it to a fully connected layer\n",
        "        out = self.fc(out)\n",
        "\n",
        "\n",
        "\n",
        "        # return the final output and the hidden state\n",
        "        return out, hidden\n",
        "\n",
        "\n",
        "    def init_hidden(self, batch_size):\n",
        "        ''' Initializes hidden state '''\n",
        "        # Create two new tensors with sizes n_layers x batch_size x n_hidden,\n",
        "        # initialized to zero, for hidden state and cell state of LSTM\n",
        "        weight = next(self.parameters()).detach()\n",
        "\n",
        "        if (train_on_gpu):\n",
        "            hidden = (weight.new(self.n_layers, batch_size, self.n_hidden).zero_().cuda(),\n",
        "                  weight.new(self.n_layers, batch_size, self.n_hidden).zero_().cuda())\n",
        "        else:\n",
        "            hidden = (weight.new(self.n_layers, batch_size, self.n_hidden).zero_(),\n",
        "                      weight.new(self.n_layers, batch_size, self.n_hidden).zero_())\n",
        "\n",
        "        return hidden\n"
      ]
    },
    {
      "cell_type": "markdown",
      "metadata": {
        "id": "lEq7b605sbO3"
      },
      "source": [
        "## Time to train\n",
        "\n",
        "The train function gives us the ability to set the number of epochs, the learning rate, and other parameters.\n",
        "\n",
        "Below we're using an Adam optimizer and cross entropy loss since we are looking at character class scores as output. We calculate the loss and perform backpropagation, as usual!\n",
        "\n",
        "A couple of details about training:\n",
        ">* Within the batch loop, we detach the hidden state from its history; this time setting it equal to a new *tuple* variable because an LSTM has a hidden state that is a tuple of the hidden and cell states.\n",
        "* We use [`clip_grad_norm_`](https://pytorch.org/docs/stable/_modules/torch/nn/utils/clip_grad.html) to help prevent exploding gradients."
      ]
    },
    {
      "cell_type": "code",
      "execution_count": null,
      "metadata": {
        "collapsed": true,
        "id": "pkGH5bMPsbO4"
      },
      "outputs": [],
      "source": [
        "def train(net, data, epochs=10, batch_size=10, seq_length=50, lr=0.001, clip=5, val_frac=0.1, print_every=10):\n",
        "    ''' Training a network\n",
        "\n",
        "        Arguments\n",
        "        ---------\n",
        "\n",
        "        net: CharRNN network\n",
        "        data: text data to train the network\n",
        "        epochs: Number of epochs to train\n",
        "        batch_size: Number of mini-sequences per mini-batch, aka batch size\n",
        "        seq_length: Number of character steps per mini-batch\n",
        "        lr: learning rate\n",
        "        clip: gradient clipping\n",
        "        val_frac: Fraction of data to hold out for validation\n",
        "        print_every: Number of steps for printing training and validation loss\n",
        "\n",
        "    '''\n",
        "    net.train()\n",
        "\n",
        "    opt = torch.optim.Adam(net.parameters(), lr=lr)\n",
        "    criterion = nn.CrossEntropyLoss()\n",
        "\n",
        "    # create training and validation data\n",
        "    val_idx = int(len(data)*(1-val_frac))\n",
        "    data, val_data = data[:val_idx], data[val_idx:]\n",
        "\n",
        "    if(train_on_gpu):\n",
        "        net.cuda()\n",
        "\n",
        "    counter = 0\n",
        "    n_chars = len(net.chars)\n",
        "\n",
        "    for e in range(epochs):\n",
        "\n",
        "        # initialize hidden state\n",
        "        h = net.init_hidden(batch_size)\n",
        "\n",
        "        for x, y in get_batches(data, batch_size, seq_length):\n",
        "            counter += 1\n",
        "\n",
        "            # One-hot encode our data and make them Torch tensors\n",
        "            x = one_hot_encode(x, n_chars)\n",
        "            inputs, targets = torch.from_numpy(x), torch.from_numpy(y)\n",
        "\n",
        "            if(train_on_gpu):\n",
        "                inputs, targets = inputs.cuda(), targets.cuda()\n",
        "\n",
        "            # Creating new variables for the hidden state, otherwise\n",
        "            # we'd backprop through the entire training history\n",
        "            h = tuple([each.detach() for each in h])\n",
        "\n",
        "            # zero accumulated gradients\n",
        "            net.zero_grad()\n",
        "\n",
        "            # get the output from the model\n",
        "            output, h = net(inputs, h)\n",
        "\n",
        "            # calculate the loss and perform backprop\n",
        "            loss = criterion(output, targets.view(batch_size*seq_length).long())\n",
        "            loss.backward()\n",
        "            # `clip_grad_norm` helps prevent the exploding gradient problem in RNNs / LSTMs.\n",
        "            nn.utils.clip_grad_norm_(net.parameters(), clip)\n",
        "            opt.step()\n",
        "\n",
        "\n",
        "\n",
        "            # loss stats\n",
        "            if counter % print_every == 0:\n",
        "                # Get validation loss\n",
        "                val_h = net.init_hidden(batch_size)\n",
        "                val_losses = []\n",
        "                net.eval()\n",
        "                for x, y in get_batches(val_data, batch_size, seq_length):\n",
        "                    # One-hot encode our data and make them Torch tensors\n",
        "                    x = one_hot_encode(x, n_chars)\n",
        "                    x, y = torch.from_numpy(x), torch.from_numpy(y)\n",
        "\n",
        "                    # Creating new variables for the hidden state, otherwise\n",
        "                    # we'd backprop through the entire training history\n",
        "                    val_h = tuple([each.detach() for each in val_h])\n",
        "\n",
        "                    inputs, targets = x, y\n",
        "                    if(train_on_gpu):\n",
        "                        inputs, targets = inputs.cuda(), targets.cuda()\n",
        "\n",
        "                    output, val_h = net(inputs, val_h)\n",
        "                    val_loss = criterion(output, targets.view(batch_size*seq_length).long())\n",
        "\n",
        "                    val_losses.append(val_loss.item())\n",
        "\n",
        "\n",
        "                net.train() # reset to train mode after iterationg through validation data\n",
        "\n",
        "                print(\"Epoch: {}/{}...\".format(e+1, epochs),\n",
        "                      \"Step: {}...\".format(counter),\n",
        "                      \"Loss: {:.4f}...\".format(loss.item()),\n",
        "                      \"Val Loss: {:.4f}\".format(np.mean(val_losses)))"
      ]
    },
    {
      "cell_type": "markdown",
      "metadata": {
        "id": "WEiXXiyesbO4"
      },
      "source": [
        "## Instantiating the model\n",
        "\n",
        "Now we can actually train the network. First we'll create the network itself, with some given hyperparameters. Then, define the mini-batches sizes, and start training!"
      ]
    },
    {
      "cell_type": "code",
      "execution_count": null,
      "metadata": {
        "collapsed": true,
        "id": "Yjp6HGRIsbO4",
        "colab": {
          "base_uri": "https://localhost:8080/"
        },
        "outputId": "1011556f-ff67-4e01-8d90-d548256fb368"
      },
      "outputs": [
        {
          "output_type": "stream",
          "name": "stdout",
          "text": [
            "CharRNN(\n",
            "  (lstm): LSTM(83, 500, num_layers=2, batch_first=True, dropout=0.6)\n",
            "  (dropout): Dropout(p=0.6, inplace=False)\n",
            "  (fc): Linear(in_features=500, out_features=83, bias=True)\n",
            ")\n"
          ]
        }
      ],
      "source": [
        "## TODO: set your model hyperparameters\n",
        "# define and print the net\n",
        "n_hidden=500\n",
        "n_layers=2\n",
        "\n",
        "net = CharRNN(chars, n_hidden, n_layers)\n",
        "print(net)"
      ]
    },
    {
      "cell_type": "markdown",
      "metadata": {
        "id": "nl2EXISXsbO4"
      },
      "source": [
        "### Set your training hyperparameters!"
      ]
    },
    {
      "cell_type": "code",
      "execution_count": null,
      "metadata": {
        "collapsed": true,
        "scrolled": true,
        "id": "EozEhu4EsbO4",
        "colab": {
          "base_uri": "https://localhost:8080/"
        },
        "outputId": "8333b5c1-27ab-4768-e2fb-c7e761fd9c59"
      },
      "outputs": [
        {
          "output_type": "stream",
          "name": "stdout",
          "text": [
            "Epoch: 1/10... Step: 10... Loss: 3.2428... Val Loss: 3.2030\n",
            "Epoch: 1/10... Step: 20... Loss: 3.1644... Val Loss: 3.1386\n",
            "Epoch: 1/10... Step: 30... Loss: 3.1313... Val Loss: 3.1293\n",
            "Epoch: 1/10... Step: 40... Loss: 3.1199... Val Loss: 3.1221\n",
            "Epoch: 1/10... Step: 50... Loss: 3.1399... Val Loss: 3.1202\n",
            "Epoch: 1/10... Step: 60... Loss: 3.1354... Val Loss: 3.1182\n",
            "Epoch: 1/10... Step: 70... Loss: 3.1404... Val Loss: 3.1147\n",
            "Epoch: 1/10... Step: 80... Loss: 3.1278... Val Loss: 3.1085\n",
            "Epoch: 1/10... Step: 90... Loss: 3.1382... Val Loss: 3.1143\n",
            "Epoch: 1/10... Step: 100... Loss: 3.0894... Val Loss: 3.1042\n",
            "Epoch: 1/10... Step: 110... Loss: 3.0940... Val Loss: 3.0974\n",
            "Epoch: 1/10... Step: 120... Loss: 3.0746... Val Loss: 3.0786\n",
            "Epoch: 1/10... Step: 130... Loss: 3.0264... Val Loss: 3.0412\n",
            "Epoch: 1/10... Step: 140... Loss: 3.0060... Val Loss: 2.9681\n",
            "Epoch: 1/10... Step: 150... Loss: 2.8856... Val Loss: 2.8817\n",
            "Epoch: 1/10... Step: 160... Loss: 3.1506... Val Loss: 2.8106\n",
            "Epoch: 1/10... Step: 170... Loss: 2.8204... Val Loss: 2.7707\n",
            "Epoch: 1/10... Step: 180... Loss: 2.6743... Val Loss: 2.6694\n",
            "Epoch: 1/10... Step: 190... Loss: 2.6488... Val Loss: 2.5985\n",
            "Epoch: 1/10... Step: 200... Loss: 2.5999... Val Loss: 2.5561\n",
            "Epoch: 1/10... Step: 210... Loss: 2.5763... Val Loss: 2.5148\n",
            "Epoch: 1/10... Step: 220... Loss: 2.5543... Val Loss: 2.4917\n",
            "Epoch: 1/10... Step: 230... Loss: 2.4529... Val Loss: 2.4651\n",
            "Epoch: 1/10... Step: 240... Loss: 2.4798... Val Loss: 2.4363\n",
            "Epoch: 1/10... Step: 250... Loss: 2.4236... Val Loss: 2.4226\n",
            "Epoch: 1/10... Step: 260... Loss: 2.4210... Val Loss: 2.3995\n",
            "Epoch: 1/10... Step: 270... Loss: 2.3991... Val Loss: 2.3812\n",
            "Epoch: 1/10... Step: 280... Loss: 2.3697... Val Loss: 2.3699\n",
            "Epoch: 1/10... Step: 290... Loss: 2.3421... Val Loss: 2.3417\n",
            "Epoch: 1/10... Step: 300... Loss: 2.3457... Val Loss: 2.3229\n",
            "Epoch: 1/10... Step: 310... Loss: 2.3100... Val Loss: 2.3056\n",
            "Epoch: 1/10... Step: 320... Loss: 2.3002... Val Loss: 2.2879\n",
            "Epoch: 1/10... Step: 330... Loss: 2.2818... Val Loss: 2.2721\n",
            "Epoch: 1/10... Step: 340... Loss: 2.2890... Val Loss: 2.2561\n",
            "Epoch: 1/10... Step: 350... Loss: 2.2838... Val Loss: 2.2351\n",
            "Epoch: 2/10... Step: 360... Loss: 2.2321... Val Loss: 2.2223\n",
            "Epoch: 2/10... Step: 370... Loss: 2.2443... Val Loss: 2.2079\n",
            "Epoch: 2/10... Step: 380... Loss: 2.2456... Val Loss: 2.1959\n",
            "Epoch: 2/10... Step: 390... Loss: 2.2214... Val Loss: 2.1824\n",
            "Epoch: 2/10... Step: 400... Loss: 2.2088... Val Loss: 2.1663\n",
            "Epoch: 2/10... Step: 410... Loss: 2.1559... Val Loss: 2.1528\n",
            "Epoch: 2/10... Step: 420... Loss: 2.1954... Val Loss: 2.1394\n",
            "Epoch: 2/10... Step: 430... Loss: 2.2166... Val Loss: 2.1271\n",
            "Epoch: 2/10... Step: 440... Loss: 2.1660... Val Loss: 2.1175\n",
            "Epoch: 2/10... Step: 450... Loss: 2.1631... Val Loss: 2.1119\n",
            "Epoch: 2/10... Step: 460... Loss: 2.1459... Val Loss: 2.0925\n",
            "Epoch: 2/10... Step: 470... Loss: 2.0998... Val Loss: 2.0808\n",
            "Epoch: 2/10... Step: 480... Loss: 2.0472... Val Loss: 2.0745\n",
            "Epoch: 2/10... Step: 490... Loss: 2.1058... Val Loss: 2.0601\n",
            "Epoch: 2/10... Step: 500... Loss: 2.0612... Val Loss: 2.0508\n",
            "Epoch: 2/10... Step: 510... Loss: 2.0776... Val Loss: 2.0467\n",
            "Epoch: 2/10... Step: 520... Loss: 2.0583... Val Loss: 2.0302\n",
            "Epoch: 2/10... Step: 530... Loss: 2.0310... Val Loss: 2.0221\n",
            "Epoch: 2/10... Step: 540... Loss: 2.0756... Val Loss: 2.0098\n",
            "Epoch: 2/10... Step: 550... Loss: 2.0576... Val Loss: 1.9995\n",
            "Epoch: 2/10... Step: 560... Loss: 2.0285... Val Loss: 1.9914\n",
            "Epoch: 2/10... Step: 570... Loss: 1.9985... Val Loss: 1.9776\n",
            "Epoch: 2/10... Step: 580... Loss: 2.0114... Val Loss: 1.9759\n",
            "Epoch: 2/10... Step: 590... Loss: 1.9513... Val Loss: 1.9653\n",
            "Epoch: 2/10... Step: 600... Loss: 1.9857... Val Loss: 1.9578\n",
            "Epoch: 2/10... Step: 610... Loss: 1.9264... Val Loss: 1.9525\n",
            "Epoch: 2/10... Step: 620... Loss: 1.9729... Val Loss: 1.9388\n",
            "Epoch: 2/10... Step: 630... Loss: 1.9458... Val Loss: 1.9340\n",
            "Epoch: 2/10... Step: 640... Loss: 1.9854... Val Loss: 1.9267\n",
            "Epoch: 2/10... Step: 650... Loss: 1.9566... Val Loss: 1.9257\n",
            "Epoch: 2/10... Step: 660... Loss: 1.9573... Val Loss: 1.9064\n",
            "Epoch: 2/10... Step: 670... Loss: 1.9600... Val Loss: 1.9021\n",
            "Epoch: 2/10... Step: 680... Loss: 1.9538... Val Loss: 1.8980\n",
            "Epoch: 2/10... Step: 690... Loss: 1.9245... Val Loss: 1.8873\n",
            "Epoch: 2/10... Step: 700... Loss: 1.9325... Val Loss: 1.8744\n",
            "Epoch: 2/10... Step: 710... Loss: 1.9199... Val Loss: 1.8752\n",
            "Epoch: 3/10... Step: 720... Loss: 1.9026... Val Loss: 1.8717\n",
            "Epoch: 3/10... Step: 730... Loss: 1.9210... Val Loss: 1.8617\n",
            "Epoch: 3/10... Step: 740... Loss: 1.9106... Val Loss: 1.8529\n",
            "Epoch: 3/10... Step: 750... Loss: 1.9257... Val Loss: 1.8548\n",
            "Epoch: 3/10... Step: 760... Loss: 1.8814... Val Loss: 1.8508\n",
            "Epoch: 3/10... Step: 770... Loss: 1.8792... Val Loss: 1.8394\n",
            "Epoch: 3/10... Step: 780... Loss: 1.8160... Val Loss: 1.8311\n",
            "Epoch: 3/10... Step: 790... Loss: 1.8950... Val Loss: 1.8249\n",
            "Epoch: 3/10... Step: 800... Loss: 1.8388... Val Loss: 1.8263\n",
            "Epoch: 3/10... Step: 810... Loss: 1.8276... Val Loss: 1.8138\n",
            "Epoch: 3/10... Step: 820... Loss: 1.8287... Val Loss: 1.8089\n",
            "Epoch: 3/10... Step: 830... Loss: 1.8157... Val Loss: 1.8074\n",
            "Epoch: 3/10... Step: 840... Loss: 1.8039... Val Loss: 1.8021\n",
            "Epoch: 3/10... Step: 850... Loss: 1.8278... Val Loss: 1.7944\n",
            "Epoch: 3/10... Step: 860... Loss: 1.8368... Val Loss: 1.7935\n",
            "Epoch: 3/10... Step: 870... Loss: 1.7941... Val Loss: 1.7892\n",
            "Epoch: 3/10... Step: 880... Loss: 1.8793... Val Loss: 1.7800\n",
            "Epoch: 3/10... Step: 890... Loss: 1.8157... Val Loss: 1.7711\n",
            "Epoch: 3/10... Step: 900... Loss: 1.7596... Val Loss: 1.7750\n",
            "Epoch: 3/10... Step: 910... Loss: 1.8329... Val Loss: 1.7658\n",
            "Epoch: 3/10... Step: 920... Loss: 1.8040... Val Loss: 1.7613\n",
            "Epoch: 3/10... Step: 930... Loss: 1.7515... Val Loss: 1.7558\n",
            "Epoch: 3/10... Step: 940... Loss: 1.7808... Val Loss: 1.7491\n",
            "Epoch: 3/10... Step: 950... Loss: 1.7793... Val Loss: 1.7469\n",
            "Epoch: 3/10... Step: 960... Loss: 1.7460... Val Loss: 1.7447\n",
            "Epoch: 3/10... Step: 970... Loss: 1.7387... Val Loss: 1.7375\n",
            "Epoch: 3/10... Step: 980... Loss: 1.7228... Val Loss: 1.7353\n",
            "Epoch: 3/10... Step: 990... Loss: 1.7468... Val Loss: 1.7301\n",
            "Epoch: 3/10... Step: 1000... Loss: 1.7308... Val Loss: 1.7282\n",
            "Epoch: 3/10... Step: 1010... Loss: 1.7297... Val Loss: 1.7220\n",
            "Epoch: 3/10... Step: 1020... Loss: 1.7647... Val Loss: 1.7200\n",
            "Epoch: 3/10... Step: 1030... Loss: 1.7520... Val Loss: 1.7136\n",
            "Epoch: 3/10... Step: 1040... Loss: 1.7573... Val Loss: 1.7091\n",
            "Epoch: 3/10... Step: 1050... Loss: 1.6874... Val Loss: 1.7049\n",
            "Epoch: 3/10... Step: 1060... Loss: 1.7709... Val Loss: 1.6978\n",
            "Epoch: 3/10... Step: 1070... Loss: 1.7226... Val Loss: 1.7002\n",
            "Epoch: 4/10... Step: 1080... Loss: 1.6863... Val Loss: 1.6999\n",
            "Epoch: 4/10... Step: 1090... Loss: 1.6935... Val Loss: 1.6932\n",
            "Epoch: 4/10... Step: 1100... Loss: 1.6578... Val Loss: 1.6894\n",
            "Epoch: 4/10... Step: 1110... Loss: 1.7334... Val Loss: 1.6855\n",
            "Epoch: 4/10... Step: 1120... Loss: 1.6983... Val Loss: 1.6816\n",
            "Epoch: 4/10... Step: 1130... Loss: 1.7221... Val Loss: 1.6831\n",
            "Epoch: 4/10... Step: 1140... Loss: 1.7347... Val Loss: 1.6781\n",
            "Epoch: 4/10... Step: 1150... Loss: 1.7222... Val Loss: 1.6757\n",
            "Epoch: 4/10... Step: 1160... Loss: 1.6901... Val Loss: 1.6736\n",
            "Epoch: 4/10... Step: 1170... Loss: 1.7185... Val Loss: 1.6681\n",
            "Epoch: 4/10... Step: 1180... Loss: 1.7637... Val Loss: 1.6683\n",
            "Epoch: 4/10... Step: 1190... Loss: 1.6923... Val Loss: 1.6689\n",
            "Epoch: 4/10... Step: 1200... Loss: 1.7177... Val Loss: 1.6622\n",
            "Epoch: 4/10... Step: 1210... Loss: 1.6383... Val Loss: 1.6555\n",
            "Epoch: 4/10... Step: 1220... Loss: 1.6902... Val Loss: 1.6570\n",
            "Epoch: 4/10... Step: 1230... Loss: 1.6649... Val Loss: 1.6522\n",
            "Epoch: 4/10... Step: 1240... Loss: 1.6670... Val Loss: 1.6485\n",
            "Epoch: 4/10... Step: 1250... Loss: 1.6582... Val Loss: 1.6410\n",
            "Epoch: 4/10... Step: 1260... Loss: 1.6752... Val Loss: 1.6367\n",
            "Epoch: 4/10... Step: 1270... Loss: 1.5988... Val Loss: 1.6406\n",
            "Epoch: 4/10... Step: 1280... Loss: 1.6609... Val Loss: 1.6302\n",
            "Epoch: 4/10... Step: 1290... Loss: 1.6253... Val Loss: 1.6314\n",
            "Epoch: 4/10... Step: 1300... Loss: 1.6529... Val Loss: 1.6270\n",
            "Epoch: 4/10... Step: 1310... Loss: 1.6508... Val Loss: 1.6241\n",
            "Epoch: 4/10... Step: 1320... Loss: 1.6409... Val Loss: 1.6259\n",
            "Epoch: 4/10... Step: 1330... Loss: 1.6214... Val Loss: 1.6208\n",
            "Epoch: 4/10... Step: 1340... Loss: 1.6122... Val Loss: 1.6186\n",
            "Epoch: 4/10... Step: 1350... Loss: 1.6165... Val Loss: 1.6146\n",
            "Epoch: 4/10... Step: 1360... Loss: 1.6453... Val Loss: 1.6114\n",
            "Epoch: 4/10... Step: 1370... Loss: 1.6499... Val Loss: 1.6081\n",
            "Epoch: 4/10... Step: 1380... Loss: 1.5885... Val Loss: 1.6077\n",
            "Epoch: 4/10... Step: 1390... Loss: 1.6201... Val Loss: 1.6057\n",
            "Epoch: 4/10... Step: 1400... Loss: 1.6284... Val Loss: 1.6006\n",
            "Epoch: 4/10... Step: 1410... Loss: 1.6190... Val Loss: 1.6026\n",
            "Epoch: 4/10... Step: 1420... Loss: 1.6027... Val Loss: 1.5943\n",
            "Epoch: 5/10... Step: 1430... Loss: 1.5505... Val Loss: 1.5928\n",
            "Epoch: 5/10... Step: 1440... Loss: 1.6211... Val Loss: 1.5962\n",
            "Epoch: 5/10... Step: 1450... Loss: 1.6377... Val Loss: 1.5925\n",
            "Epoch: 5/10... Step: 1460... Loss: 1.6330... Val Loss: 1.5909\n",
            "Epoch: 5/10... Step: 1470... Loss: 1.6053... Val Loss: 1.5922\n",
            "Epoch: 5/10... Step: 1480... Loss: 1.5524... Val Loss: 1.5848\n",
            "Epoch: 5/10... Step: 1490... Loss: 1.5983... Val Loss: 1.5837\n",
            "Epoch: 5/10... Step: 1500... Loss: 1.6310... Val Loss: 1.5837\n",
            "Epoch: 5/10... Step: 1510... Loss: 1.5852... Val Loss: 1.5813\n",
            "Epoch: 5/10... Step: 1520... Loss: 1.5490... Val Loss: 1.5778\n",
            "Epoch: 5/10... Step: 1530... Loss: 1.6220... Val Loss: 1.5787\n",
            "Epoch: 5/10... Step: 1540... Loss: 1.5740... Val Loss: 1.5732\n",
            "Epoch: 5/10... Step: 1550... Loss: 1.5906... Val Loss: 1.5733\n",
            "Epoch: 5/10... Step: 1560... Loss: 1.5610... Val Loss: 1.5702\n",
            "Epoch: 5/10... Step: 1570... Loss: 1.6290... Val Loss: 1.5662\n",
            "Epoch: 5/10... Step: 1580... Loss: 1.5551... Val Loss: 1.5685\n",
            "Epoch: 5/10... Step: 1590... Loss: 1.5796... Val Loss: 1.5649\n",
            "Epoch: 5/10... Step: 1600... Loss: 1.5691... Val Loss: 1.5576\n",
            "Epoch: 5/10... Step: 1610... Loss: 1.5832... Val Loss: 1.5617\n",
            "Epoch: 5/10... Step: 1620... Loss: 1.5578... Val Loss: 1.5536\n",
            "Epoch: 5/10... Step: 1630... Loss: 1.5548... Val Loss: 1.5546\n",
            "Epoch: 5/10... Step: 1640... Loss: 1.5731... Val Loss: 1.5472\n",
            "Epoch: 5/10... Step: 1650... Loss: 1.5541... Val Loss: 1.5533\n",
            "Epoch: 5/10... Step: 1660... Loss: 1.5922... Val Loss: 1.5488\n",
            "Epoch: 5/10... Step: 1670... Loss: 1.6029... Val Loss: 1.5503\n",
            "Epoch: 5/10... Step: 1680... Loss: 1.6095... Val Loss: 1.5514\n",
            "Epoch: 5/10... Step: 1690... Loss: 1.5434... Val Loss: 1.5454\n",
            "Epoch: 5/10... Step: 1700... Loss: 1.5208... Val Loss: 1.5402\n",
            "Epoch: 5/10... Step: 1710... Loss: 1.5772... Val Loss: 1.5353\n",
            "Epoch: 5/10... Step: 1720... Loss: 1.5266... Val Loss: 1.5318\n",
            "Epoch: 5/10... Step: 1730... Loss: 1.5504... Val Loss: 1.5366\n",
            "Epoch: 5/10... Step: 1740... Loss: 1.5185... Val Loss: 1.5337\n",
            "Epoch: 5/10... Step: 1750... Loss: 1.5261... Val Loss: 1.5337\n",
            "Epoch: 5/10... Step: 1760... Loss: 1.5449... Val Loss: 1.5280\n",
            "Epoch: 5/10... Step: 1770... Loss: 1.5580... Val Loss: 1.5280\n",
            "Epoch: 5/10... Step: 1780... Loss: 1.5402... Val Loss: 1.5219\n",
            "Epoch: 6/10... Step: 1790... Loss: 1.5215... Val Loss: 1.5393\n",
            "Epoch: 6/10... Step: 1800... Loss: 1.5514... Val Loss: 1.5247\n",
            "Epoch: 6/10... Step: 1810... Loss: 1.5027... Val Loss: 1.5214\n",
            "Epoch: 6/10... Step: 1820... Loss: 1.5287... Val Loss: 1.5184\n",
            "Epoch: 6/10... Step: 1830... Loss: 1.5241... Val Loss: 1.5222\n",
            "Epoch: 6/10... Step: 1840... Loss: 1.5190... Val Loss: 1.5185\n",
            "Epoch: 6/10... Step: 1850... Loss: 1.5296... Val Loss: 1.5200\n",
            "Epoch: 6/10... Step: 1860... Loss: 1.4725... Val Loss: 1.5197\n",
            "Epoch: 6/10... Step: 1870... Loss: 1.5448... Val Loss: 1.5165\n",
            "Epoch: 6/10... Step: 1880... Loss: 1.5274... Val Loss: 1.5137\n",
            "Epoch: 6/10... Step: 1890... Loss: 1.5197... Val Loss: 1.5154\n",
            "Epoch: 6/10... Step: 1900... Loss: 1.5274... Val Loss: 1.5115\n",
            "Epoch: 6/10... Step: 1910... Loss: 1.5038... Val Loss: 1.5138\n",
            "Epoch: 6/10... Step: 1920... Loss: 1.5411... Val Loss: 1.5092\n",
            "Epoch: 6/10... Step: 1930... Loss: 1.4898... Val Loss: 1.5074\n",
            "Epoch: 6/10... Step: 1940... Loss: 1.5455... Val Loss: 1.5094\n",
            "Epoch: 6/10... Step: 1950... Loss: 1.4849... Val Loss: 1.5040\n",
            "Epoch: 6/10... Step: 1960... Loss: 1.5354... Val Loss: 1.5017\n",
            "Epoch: 6/10... Step: 1970... Loss: 1.4922... Val Loss: 1.5040\n",
            "Epoch: 6/10... Step: 1980... Loss: 1.5134... Val Loss: 1.4972\n",
            "Epoch: 6/10... Step: 1990... Loss: 1.4757... Val Loss: 1.5015\n",
            "Epoch: 6/10... Step: 2000... Loss: 1.4737... Val Loss: 1.4934\n",
            "Epoch: 6/10... Step: 2010... Loss: 1.5297... Val Loss: 1.4977\n",
            "Epoch: 6/10... Step: 2020... Loss: 1.4996... Val Loss: 1.5018\n",
            "Epoch: 6/10... Step: 2030... Loss: 1.5563... Val Loss: 1.4972\n",
            "Epoch: 6/10... Step: 2040... Loss: 1.4775... Val Loss: 1.4938\n",
            "Epoch: 6/10... Step: 2050... Loss: 1.5304... Val Loss: 1.4920\n",
            "Epoch: 6/10... Step: 2060... Loss: 1.5098... Val Loss: 1.4920\n",
            "Epoch: 6/10... Step: 2070... Loss: 1.5015... Val Loss: 1.4887\n",
            "Epoch: 6/10... Step: 2080... Loss: 1.4767... Val Loss: 1.4877\n",
            "Epoch: 6/10... Step: 2090... Loss: 1.4495... Val Loss: 1.4897\n",
            "Epoch: 6/10... Step: 2100... Loss: 1.5010... Val Loss: 1.4849\n",
            "Epoch: 6/10... Step: 2110... Loss: 1.4612... Val Loss: 1.4851\n",
            "Epoch: 6/10... Step: 2120... Loss: 1.4247... Val Loss: 1.4801\n",
            "Epoch: 6/10... Step: 2130... Loss: 1.4310... Val Loss: 1.4818\n",
            "Epoch: 6/10... Step: 2140... Loss: 1.4539... Val Loss: 1.4792\n",
            "Epoch: 7/10... Step: 2150... Loss: 1.4578... Val Loss: 1.4824\n",
            "Epoch: 7/10... Step: 2160... Loss: 1.5278... Val Loss: 1.4762\n",
            "Epoch: 7/10... Step: 2170... Loss: 1.4718... Val Loss: 1.4793\n",
            "Epoch: 7/10... Step: 2180... Loss: 1.5307... Val Loss: 1.4768\n",
            "Epoch: 7/10... Step: 2190... Loss: 1.5205... Val Loss: 1.4775\n",
            "Epoch: 7/10... Step: 2200... Loss: 1.4684... Val Loss: 1.4711\n",
            "Epoch: 7/10... Step: 2210... Loss: 1.4524... Val Loss: 1.4771\n",
            "Epoch: 7/10... Step: 2220... Loss: 1.4909... Val Loss: 1.4737\n",
            "Epoch: 7/10... Step: 2230... Loss: 1.4523... Val Loss: 1.4750\n",
            "Epoch: 7/10... Step: 2240... Loss: 1.4475... Val Loss: 1.4757\n",
            "Epoch: 7/10... Step: 2250... Loss: 1.4387... Val Loss: 1.4710\n",
            "Epoch: 7/10... Step: 2260... Loss: 1.4764... Val Loss: 1.4725\n",
            "Epoch: 7/10... Step: 2270... Loss: 1.4636... Val Loss: 1.4675\n",
            "Epoch: 7/10... Step: 2280... Loss: 1.5035... Val Loss: 1.4712\n",
            "Epoch: 7/10... Step: 2290... Loss: 1.4637... Val Loss: 1.4746\n",
            "Epoch: 7/10... Step: 2300... Loss: 1.4615... Val Loss: 1.4678\n",
            "Epoch: 7/10... Step: 2310... Loss: 1.4612... Val Loss: 1.4652\n",
            "Epoch: 7/10... Step: 2320... Loss: 1.4905... Val Loss: 1.4580\n",
            "Epoch: 7/10... Step: 2330... Loss: 1.4541... Val Loss: 1.4637\n",
            "Epoch: 7/10... Step: 2340... Loss: 1.4870... Val Loss: 1.4596\n",
            "Epoch: 7/10... Step: 2350... Loss: 1.4499... Val Loss: 1.4601\n",
            "Epoch: 7/10... Step: 2360... Loss: 1.4041... Val Loss: 1.4595\n",
            "Epoch: 7/10... Step: 2370... Loss: 1.4366... Val Loss: 1.4579\n",
            "Epoch: 7/10... Step: 2380... Loss: 1.4598... Val Loss: 1.4559\n",
            "Epoch: 7/10... Step: 2390... Loss: 1.4576... Val Loss: 1.4614\n",
            "Epoch: 7/10... Step: 2400... Loss: 1.4511... Val Loss: 1.4569\n",
            "Epoch: 7/10... Step: 2410... Loss: 1.4530... Val Loss: 1.4546\n",
            "Epoch: 7/10... Step: 2420... Loss: 1.4743... Val Loss: 1.4529\n",
            "Epoch: 7/10... Step: 2430... Loss: 1.4280... Val Loss: 1.4515\n",
            "Epoch: 7/10... Step: 2440... Loss: 1.4506... Val Loss: 1.4486\n",
            "Epoch: 7/10... Step: 2450... Loss: 1.4006... Val Loss: 1.4523\n",
            "Epoch: 7/10... Step: 2460... Loss: 1.4689... Val Loss: 1.4503\n",
            "Epoch: 7/10... Step: 2470... Loss: 1.4511... Val Loss: 1.4499\n",
            "Epoch: 7/10... Step: 2480... Loss: 1.4785... Val Loss: 1.4438\n",
            "Epoch: 7/10... Step: 2490... Loss: 1.4295... Val Loss: 1.4463\n",
            "Epoch: 8/10... Step: 2500... Loss: 1.5161... Val Loss: 1.4403\n",
            "Epoch: 8/10... Step: 2510... Loss: 1.4357... Val Loss: 1.4453\n",
            "Epoch: 8/10... Step: 2520... Loss: 1.3586... Val Loss: 1.4459\n",
            "Epoch: 8/10... Step: 2530... Loss: 1.4350... Val Loss: 1.4442\n",
            "Epoch: 8/10... Step: 2540... Loss: 1.4686... Val Loss: 1.4410\n",
            "Epoch: 8/10... Step: 2550... Loss: 1.4381... Val Loss: 1.4415\n",
            "Epoch: 8/10... Step: 2560... Loss: 1.4088... Val Loss: 1.4434\n",
            "Epoch: 8/10... Step: 2570... Loss: 1.4210... Val Loss: 1.4420\n",
            "Epoch: 8/10... Step: 2580... Loss: 1.4119... Val Loss: 1.4398\n",
            "Epoch: 8/10... Step: 2590... Loss: 1.4069... Val Loss: 1.4369\n",
            "Epoch: 8/10... Step: 2600... Loss: 1.4023... Val Loss: 1.4408\n",
            "Epoch: 8/10... Step: 2610... Loss: 1.4426... Val Loss: 1.4365\n",
            "Epoch: 8/10... Step: 2620... Loss: 1.4311... Val Loss: 1.4374\n",
            "Epoch: 8/10... Step: 2630... Loss: 1.4547... Val Loss: 1.4378\n",
            "Epoch: 8/10... Step: 2640... Loss: 1.4339... Val Loss: 1.4339\n",
            "Epoch: 8/10... Step: 2650... Loss: 1.4726... Val Loss: 1.4367\n",
            "Epoch: 8/10... Step: 2660... Loss: 1.4213... Val Loss: 1.4320\n",
            "Epoch: 8/10... Step: 2670... Loss: 1.4433... Val Loss: 1.4301\n",
            "Epoch: 8/10... Step: 2680... Loss: 1.4634... Val Loss: 1.4237\n",
            "Epoch: 8/10... Step: 2690... Loss: 1.3513... Val Loss: 1.4263\n",
            "Epoch: 8/10... Step: 2700... Loss: 1.4520... Val Loss: 1.4287\n",
            "Epoch: 8/10... Step: 2710... Loss: 1.4013... Val Loss: 1.4300\n",
            "Epoch: 8/10... Step: 2720... Loss: 1.3683... Val Loss: 1.4253\n",
            "Epoch: 8/10... Step: 2730... Loss: 1.3994... Val Loss: 1.4282\n",
            "Epoch: 8/10... Step: 2740... Loss: 1.3996... Val Loss: 1.4228\n",
            "Epoch: 8/10... Step: 2750... Loss: 1.4527... Val Loss: 1.4281\n",
            "Epoch: 8/10... Step: 2760... Loss: 1.4597... Val Loss: 1.4253\n",
            "Epoch: 8/10... Step: 2770... Loss: 1.3845... Val Loss: 1.4250\n",
            "Epoch: 8/10... Step: 2780... Loss: 1.4927... Val Loss: 1.4186\n",
            "Epoch: 8/10... Step: 2790... Loss: 1.3780... Val Loss: 1.4216\n",
            "Epoch: 8/10... Step: 2800... Loss: 1.4254... Val Loss: 1.4211\n",
            "Epoch: 8/10... Step: 2810... Loss: 1.3617... Val Loss: 1.4170\n",
            "Epoch: 8/10... Step: 2820... Loss: 1.4104... Val Loss: 1.4145\n",
            "Epoch: 8/10... Step: 2830... Loss: 1.3743... Val Loss: 1.4154\n",
            "Epoch: 8/10... Step: 2840... Loss: 1.3975... Val Loss: 1.4196\n",
            "Epoch: 8/10... Step: 2850... Loss: 1.4207... Val Loss: 1.4157\n",
            "Epoch: 9/10... Step: 2860... Loss: 1.3379... Val Loss: 1.4216\n",
            "Epoch: 9/10... Step: 2870... Loss: 1.3958... Val Loss: 1.4155\n",
            "Epoch: 9/10... Step: 2880... Loss: 1.3739... Val Loss: 1.4139\n",
            "Epoch: 9/10... Step: 2890... Loss: 1.3454... Val Loss: 1.4136\n",
            "Epoch: 9/10... Step: 2900... Loss: 1.3880... Val Loss: 1.4201\n",
            "Epoch: 9/10... Step: 2910... Loss: 1.4046... Val Loss: 1.4117\n",
            "Epoch: 9/10... Step: 2920... Loss: 1.3597... Val Loss: 1.4106\n",
            "Epoch: 9/10... Step: 2930... Loss: 1.4157... Val Loss: 1.4116\n",
            "Epoch: 9/10... Step: 2940... Loss: 1.3482... Val Loss: 1.4096\n",
            "Epoch: 9/10... Step: 2950... Loss: 1.3581... Val Loss: 1.4110\n",
            "Epoch: 9/10... Step: 2960... Loss: 1.4221... Val Loss: 1.4170\n",
            "Epoch: 9/10... Step: 2970... Loss: 1.4152... Val Loss: 1.4111\n",
            "Epoch: 9/10... Step: 2980... Loss: 1.3910... Val Loss: 1.4143\n",
            "Epoch: 9/10... Step: 2990... Loss: 1.3827... Val Loss: 1.4101\n",
            "Epoch: 9/10... Step: 3000... Loss: 1.3750... Val Loss: 1.4078\n",
            "Epoch: 9/10... Step: 3010... Loss: 1.4235... Val Loss: 1.4103\n",
            "Epoch: 9/10... Step: 3020... Loss: 1.4134... Val Loss: 1.4055\n",
            "Epoch: 9/10... Step: 3030... Loss: 1.3691... Val Loss: 1.4059\n",
            "Epoch: 9/10... Step: 3040... Loss: 1.3723... Val Loss: 1.4032\n",
            "Epoch: 9/10... Step: 3050... Loss: 1.3801... Val Loss: 1.4016\n",
            "Epoch: 9/10... Step: 3060... Loss: 1.3863... Val Loss: 1.4032\n",
            "Epoch: 9/10... Step: 3070... Loss: 1.3876... Val Loss: 1.4007\n",
            "Epoch: 9/10... Step: 3080... Loss: 1.3656... Val Loss: 1.4020\n",
            "Epoch: 9/10... Step: 3090... Loss: 1.3584... Val Loss: 1.4035\n",
            "Epoch: 9/10... Step: 3100... Loss: 1.3658... Val Loss: 1.4015\n",
            "Epoch: 9/10... Step: 3110... Loss: 1.3883... Val Loss: 1.4029\n",
            "Epoch: 9/10... Step: 3120... Loss: 1.3446... Val Loss: 1.4021\n",
            "Epoch: 9/10... Step: 3130... Loss: 1.3682... Val Loss: 1.4011\n",
            "Epoch: 9/10... Step: 3140... Loss: 1.3492... Val Loss: 1.3982\n",
            "Epoch: 9/10... Step: 3150... Loss: 1.3842... Val Loss: 1.3985\n",
            "Epoch: 9/10... Step: 3160... Loss: 1.4104... Val Loss: 1.3958\n",
            "Epoch: 9/10... Step: 3170... Loss: 1.3106... Val Loss: 1.3938\n",
            "Epoch: 9/10... Step: 3180... Loss: 1.3627... Val Loss: 1.3951\n",
            "Epoch: 9/10... Step: 3190... Loss: 1.3695... Val Loss: 1.3965\n",
            "Epoch: 9/10... Step: 3200... Loss: 1.3874... Val Loss: 1.3949\n",
            "Epoch: 9/10... Step: 3210... Loss: 1.3699... Val Loss: 1.3876\n",
            "Epoch: 10/10... Step: 3220... Loss: 1.3479... Val Loss: 1.4018\n",
            "Epoch: 10/10... Step: 3230... Loss: 1.3644... Val Loss: 1.3950\n",
            "Epoch: 10/10... Step: 3240... Loss: 1.3870... Val Loss: 1.3934\n",
            "Epoch: 10/10... Step: 3250... Loss: 1.3698... Val Loss: 1.3903\n",
            "Epoch: 10/10... Step: 3260... Loss: 1.3888... Val Loss: 1.3934\n",
            "Epoch: 10/10... Step: 3270... Loss: 1.4171... Val Loss: 1.3910\n",
            "Epoch: 10/10... Step: 3280... Loss: 1.3662... Val Loss: 1.3926\n",
            "Epoch: 10/10... Step: 3290... Loss: 1.3458... Val Loss: 1.3936\n",
            "Epoch: 10/10... Step: 3300... Loss: 1.3919... Val Loss: 1.3925\n",
            "Epoch: 10/10... Step: 3310... Loss: 1.3538... Val Loss: 1.3904\n",
            "Epoch: 10/10... Step: 3320... Loss: 1.3730... Val Loss: 1.3956\n",
            "Epoch: 10/10... Step: 3330... Loss: 1.3187... Val Loss: 1.3909\n",
            "Epoch: 10/10... Step: 3340... Loss: 1.4059... Val Loss: 1.3905\n",
            "Epoch: 10/10... Step: 3350... Loss: 1.3255... Val Loss: 1.3932\n",
            "Epoch: 10/10... Step: 3360... Loss: 1.3448... Val Loss: 1.3879\n",
            "Epoch: 10/10... Step: 3370... Loss: 1.3686... Val Loss: 1.3887\n",
            "Epoch: 10/10... Step: 3380... Loss: 1.4090... Val Loss: 1.3871\n",
            "Epoch: 10/10... Step: 3390... Loss: 1.3859... Val Loss: 1.3876\n",
            "Epoch: 10/10... Step: 3400... Loss: 1.3839... Val Loss: 1.3844\n",
            "Epoch: 10/10... Step: 3410... Loss: 1.3997... Val Loss: 1.3839\n",
            "Epoch: 10/10... Step: 3420... Loss: 1.3205... Val Loss: 1.3882\n",
            "Epoch: 10/10... Step: 3430... Loss: 1.2994... Val Loss: 1.3851\n",
            "Epoch: 10/10... Step: 3440... Loss: 1.4081... Val Loss: 1.3862\n",
            "Epoch: 10/10... Step: 3450... Loss: 1.3597... Val Loss: 1.3874\n",
            "Epoch: 10/10... Step: 3460... Loss: 1.3355... Val Loss: 1.3845\n",
            "Epoch: 10/10... Step: 3470... Loss: 1.3898... Val Loss: 1.3851\n",
            "Epoch: 10/10... Step: 3480... Loss: 1.3432... Val Loss: 1.3832\n",
            "Epoch: 10/10... Step: 3490... Loss: 1.3349... Val Loss: 1.3797\n",
            "Epoch: 10/10... Step: 3500... Loss: 1.3340... Val Loss: 1.3750\n",
            "Epoch: 10/10... Step: 3510... Loss: 1.3629... Val Loss: 1.3793\n",
            "Epoch: 10/10... Step: 3520... Loss: 1.3043... Val Loss: 1.3796\n",
            "Epoch: 10/10... Step: 3530... Loss: 1.3392... Val Loss: 1.3758\n",
            "Epoch: 10/10... Step: 3540... Loss: 1.3782... Val Loss: 1.3761\n",
            "Epoch: 10/10... Step: 3550... Loss: 1.3578... Val Loss: 1.3752\n",
            "Epoch: 10/10... Step: 3560... Loss: 1.3225... Val Loss: 1.3771\n",
            "Epoch: 10/10... Step: 3570... Loss: 1.4118... Val Loss: 1.3745\n"
          ]
        }
      ],
      "source": [
        "batch_size = 100\n",
        "seq_length = 50\n",
        "n_epochs = 10 # start small if you are just testing initial behavior\n",
        "\n",
        "# train the model\n",
        "train(net, encoded, epochs=n_epochs, batch_size=batch_size, seq_length=seq_length, lr=0.001, print_every=10)"
      ]
    },
    {
      "cell_type": "markdown",
      "metadata": {
        "id": "e5cJ2BjxsbO5"
      },
      "source": [
        "## Getting the best model\n",
        "\n",
        "To set your hyperparameters to get the best performance, you'll want to watch the training and validation losses. If your training loss is much lower than the validation loss, you're overfitting. Increase regularization (more dropout) or use a smaller network. If the training and validation losses are close, you're underfitting so you can increase the size of the network."
      ]
    },
    {
      "cell_type": "markdown",
      "metadata": {
        "id": "Zdo1fKUbsbO5"
      },
      "source": [
        "## Hyperparameters\n",
        "\n",
        "Here are the hyperparameters for the network.\n",
        "\n",
        "In defining the model:\n",
        "* `n_hidden` - The number of units in the hidden layers.\n",
        "* `n_layers` - Number of hidden LSTM layers to use.\n",
        "\n",
        "We assume that dropout probability and learning rate will be kept at the default, in this example.\n",
        "\n",
        "And in training:\n",
        "* `batch_size` - Number of sequences running through the network in one pass.\n",
        "* `seq_length` - Number of characters in the sequence the network is trained on. Larger is better typically, the network will learn more long range dependencies. But it takes longer to train. 100 is typically a good number here.\n",
        "* `lr` - Learning rate for training\n",
        "\n",
        "Here's some good advice from Andrej Karpathy on training the network. I'm going to copy it in here for your benefit, but also link to [where it originally came from](https://github.com/karpathy/char-rnn#tips-and-tricks).\n",
        "\n",
        "> ## Tips and Tricks\n",
        "\n",
        ">### Monitoring Validation Loss vs. Training Loss\n",
        ">If you're somewhat new to Machine Learning or Neural Networks it can take a bit of expertise to get good models. The most important quantity to keep track of is the difference between your training loss (printed during training) and the validation loss (printed once in a while when the RNN is run on the validation data (by default every 1000 iterations)). In particular:\n",
        "\n",
        "> - If your training loss is much lower than validation loss then this means the network might be **overfitting**. Solutions to this are to decrease your network size, or to increase dropout. For example you could try dropout of 0.5 and so on.\n",
        "> - If your training/validation loss are about equal then your model is **underfitting**. Increase the size of your model (either number of layers or the raw number of neurons per layer)\n",
        "\n",
        "> ### Approximate number of parameters\n",
        "\n",
        "> The two most important parameters that control the model are `n_hidden` and `n_layers`. I would advise that you always use `n_layers` of either 2/3. The `n_hidden` can be adjusted based on how much data you have. The two important quantities to keep track of here are:\n",
        "\n",
        "> - The number of parameters in your model. This is printed when you start training.\n",
        "> - The size of your dataset. 1MB file is approximately 1 million characters.\n",
        "\n",
        ">These two should be about the same order of magnitude. It's a little tricky to tell. Here are some examples:\n",
        "\n",
        "> - I have a 100MB dataset and I'm using the default parameter settings (which currently print 150K parameters). My data size is significantly larger (100 mil >> 0.15 mil), so I expect to heavily underfit. I am thinking I can comfortably afford to make `n_hidden` larger.\n",
        "> - I have a 10MB dataset and running a 10 million parameter model. I'm slightly nervous and I'm carefully monitoring my validation loss. If it's larger than my training loss then I may want to try to increase dropout a bit and see if that helps the validation loss.\n",
        "\n",
        "> ### Best models strategy\n",
        "\n",
        ">The winning strategy to obtaining very good models (if you have the compute time) is to always err on making the network larger (as large as you're willing to wait for it to compute) and then try different dropout values (between 0,1). Whatever model has the best validation performance (the loss, written in the checkpoint filename, low is good) is the one you should use in the end.\n",
        "\n",
        ">It is very common in deep learning to run many different models with many different hyperparameter settings, and in the end take whatever checkpoint gave the best validation performance.\n",
        "\n",
        ">By the way, the size of your training and validation splits are also parameters. Make sure you have a decent amount of data in your validation set or otherwise the validation performance will be noisy and not very informative."
      ]
    },
    {
      "cell_type": "markdown",
      "metadata": {
        "id": "uwmC7wgxsbO5"
      },
      "source": [
        "## Checkpoint\n",
        "\n",
        "After training, we'll save the model so we can load it again later if we need too. Here I'm saving the parameters needed to create the same architecture, the hidden layer hyperparameters and the text characters."
      ]
    },
    {
      "cell_type": "code",
      "execution_count": null,
      "metadata": {
        "collapsed": true,
        "id": "ZkzlVoJ8sbO5"
      },
      "outputs": [],
      "source": [
        "# change the name, for saving multiple files\n",
        "model_name = 'rnn_x_epoch.net'\n",
        "\n",
        "checkpoint = {'n_hidden': net.n_hidden,\n",
        "              'n_layers': net.n_layers,\n",
        "              'state_dict': net.state_dict(),\n",
        "              'tokens': net.chars}\n",
        "\n",
        "with open(model_name, 'wb') as f:\n",
        "    torch.save(checkpoint, f)"
      ]
    },
    {
      "cell_type": "markdown",
      "metadata": {
        "id": "xcTjokfrsbO5"
      },
      "source": [
        "---\n",
        "## Making Predictions\n",
        "\n",
        "Now that the model is trained, we'll want to sample from it and make predictions about next characters! To sample, we pass in a character and have the network predict the next character. Then we take that character, pass it back in, and get another predicted character. Just keep doing this and you'll generate a bunch of text!\n",
        "\n",
        "### A note on the `predict`  function\n",
        "\n",
        "The output of our RNN is from a fully-connected layer and it outputs a **distribution of next-character scores**.\n",
        "\n",
        "> To actually get the next character, we apply a softmax function, which gives us a *probability* distribution that we can then sample to predict the next character.\n",
        "\n",
        "### Top K sampling\n",
        "\n",
        "Our predictions come from a categorical probability distribution over all the possible characters. We can make the sample text and make it more reasonable to handle (with less variables) by only considering some $K$ most probable characters. This will prevent the network from giving us completely absurd characters while allowing it to introduce some noise and randomness into the sampled text. Read more about [topk, here](https://pytorch.org/docs/stable/torch.html#torch.topk).\n"
      ]
    },
    {
      "cell_type": "code",
      "execution_count": null,
      "metadata": {
        "collapsed": true,
        "id": "pVP-ESD6sbO5"
      },
      "outputs": [],
      "source": [
        "def predict(net, char, h=None, top_k=None):\n",
        "        ''' Given a character, predict the next character.\n",
        "            Returns the predicted character and the hidden state.\n",
        "        '''\n",
        "\n",
        "        # tensor inputs (2-D array [[]])\n",
        "        x = np.array([[net.char2int[char]]])\n",
        "        x = one_hot_encode(x, len(net.chars))\n",
        "        inputs = torch.from_numpy(x)\n",
        "\n",
        "        if(train_on_gpu):\n",
        "            inputs = inputs.cuda()\n",
        "\n",
        "        # detach hidden state from history\n",
        "        h = tuple([each.detach() for each in h])\n",
        "        # get the output of the model\n",
        "        out, h = net(inputs, h)\n",
        "\n",
        "        # get the character probabilities\n",
        "        p = F.softmax(out, dim=1).data\n",
        "        if(train_on_gpu):\n",
        "            p = p.cpu() # move to cpu\n",
        "\n",
        "        # get top characters\n",
        "        if top_k is None:\n",
        "            top_ch = np.arange(len(net.chars))\n",
        "        else:\n",
        "            p, top_ch = p.topk(top_k)\n",
        "            top_ch = top_ch.numpy().squeeze()\n",
        "\n",
        "        # select the likely next character with some element of randomness\n",
        "        p = p.numpy().squeeze()\n",
        "        char = np.random.choice(top_ch, p=p/p.sum())\n",
        "\n",
        "        # return the encoded value of the predicted char and the hidden state\n",
        "        return net.int2char[char], h"
      ]
    },
    {
      "cell_type": "markdown",
      "metadata": {
        "id": "uh4Ok9ITsbO6"
      },
      "source": [
        "### Priming and generating text\n",
        "\n",
        "Typically you'll want to prime the network so you can build up a hidden state. Otherwise the network will start out generating characters at random. In general the first bunch of characters will be a little rough since it hasn't built up a long history of characters to predict from."
      ]
    },
    {
      "cell_type": "code",
      "execution_count": null,
      "metadata": {
        "collapsed": true,
        "id": "FwkI8VOwsbO6"
      },
      "outputs": [],
      "source": [
        "def sample(net, size, prime='The', top_k=None):\n",
        "\n",
        "    if(train_on_gpu):\n",
        "        net.cuda()\n",
        "    else:\n",
        "        net.cpu()\n",
        "\n",
        "    net.eval() # eval mode\n",
        "\n",
        "    # First off, run through the prime characters\n",
        "    chars = [ch for ch in prime]\n",
        "    h = net.init_hidden(1)\n",
        "    for ch in prime:\n",
        "        char, h = predict(net, ch, h, top_k=top_k)\n",
        "\n",
        "    chars.append(char)\n",
        "\n",
        "    # Now pass in the previous character and get a new one\n",
        "    for ii in range(size):\n",
        "        char, h = predict(net, chars[-1], h, top_k=top_k)\n",
        "        chars.append(char)\n",
        "\n",
        "    return ''.join(chars)"
      ]
    },
    {
      "cell_type": "code",
      "execution_count": null,
      "metadata": {
        "collapsed": true,
        "id": "gjsVWt38sbPH",
        "colab": {
          "base_uri": "https://localhost:8080/"
        },
        "outputId": "e0bd7235-76cd-41b9-fbd3-fb0f8d350f43"
      },
      "outputs": [
        {
          "output_type": "stream",
          "name": "stdout",
          "text": [
            "Anna,\" she telling, \"there's so mare a little tall if there were the death, and I would not give it.\"\n",
            "\n",
            "\"Well, then't an an old cluth and that is the terrary thing werl\n",
            "to be tears,\" he said to the sick point of seemed by the distance of the difficult and at his carriage, would have the mind to say in the story and\n",
            "still station of which he was not to dreas to say, with which were\n",
            "clungrated\n",
            "and.\n",
            "\n",
            "\"That's to be in\n",
            "the place, and that indeed you're to do that I want a shill to\n",
            "the same to her those they.\"\n",
            "\n",
            "He sturned to\n",
            "be discutted. After having have been some on\n",
            "its only and went that hust and had a men on their\n",
            "conforming of his bist on his brother had been true he had been day at the partion was an ease was time he\n",
            "was a princess that the\n",
            "chair of which he\n",
            "had almost a long orderess,\n",
            "though she had tried to say to\n",
            "a shoulder and the studies to a member of his finger of the part, begre to the most chillren and worked to the chark over the methin and\n",
            "struck the wife\n",
            "of\n",
            "his son, so was not a\n"
          ]
        }
      ],
      "source": [
        "print(sample(net, 1000, prime='Anna', top_k=5))"
      ]
    },
    {
      "cell_type": "markdown",
      "metadata": {
        "id": "tOCPsW10sbPH"
      },
      "source": [
        "## Loading a checkpoint"
      ]
    },
    {
      "cell_type": "code",
      "execution_count": null,
      "metadata": {
        "collapsed": true,
        "id": "QhDQEUncsbPI",
        "colab": {
          "base_uri": "https://localhost:8080/"
        },
        "outputId": "3ac821d9-0e7f-4e0a-97ac-437c5fbd5e12"
      },
      "outputs": [
        {
          "output_type": "execute_result",
          "data": {
            "text/plain": [
              "<All keys matched successfully>"
            ]
          },
          "metadata": {},
          "execution_count": 21
        }
      ],
      "source": [
        "# Here we have loaded in a model that trained over 20 epochs `rnn_20_epoch.net`\n",
        "with open('rnn_x_epoch.net', 'rb') as f:\n",
        "    checkpoint = torch.load(f)\n",
        "\n",
        "loaded = CharRNN(checkpoint['tokens'], n_hidden=checkpoint['n_hidden'], n_layers=checkpoint['n_layers'])\n",
        "loaded.load_state_dict(checkpoint['state_dict'])"
      ]
    },
    {
      "cell_type": "code",
      "execution_count": null,
      "metadata": {
        "collapsed": true,
        "id": "cuNmoSgnsbPI",
        "colab": {
          "base_uri": "https://localhost:8080/"
        },
        "outputId": "e8026d6a-7b23-4c5e-e3a5-27ce50fbee41"
      },
      "outputs": [
        {
          "output_type": "stream",
          "name": "stdout",
          "text": [
            "And Levin said, all this\n",
            "short with his hands\n",
            "of her face of the difficulties of the peasants was\n",
            "not all the\n",
            "door and\n",
            "standing that the sentress\n",
            "of\n",
            "the carriage had they drowp in the position in\n",
            "the drawer time on his wife, and he had so step that their say she had been down at a composing with what was so then he helr his brother's changes, and went out to the plooch and satisfied.\n",
            "\n",
            "\"I don't know why what is a particular the table on the sendrant one? You know what all the subject the chose thing. What has a man and you must go away it, and that is so sertly the something all that I am.\" He should be a little councess of\n",
            "the married to they. \"Yes,\" thought\n",
            "Levin, without begun, so that he said, soon. \"We must go and must cuntrous the society of the moment is in it?\"\n",
            "\n",
            "\"I don't be done!\" said Alexey Alexandrovitch,\n",
            "\"and you know you thill then it meaning it was not in spriathing.\"\n",
            "\n",
            "\"You know you will be settled as he was all in him in thought and the same\n",
            "meeting where is it walk of a marman all some\n",
            "of a sention,\" answered Kitty.\n",
            "\n",
            "\"I am something the tries? What all the coure there? The seese which she said, with the cartial shake off, and I don't be a compotions of such interests in\n",
            "the\n",
            "same times and so imaginent.\"\n",
            "\n",
            "\"I'm a more carriage tray with you are not one asked this. I didn't be complete themens in a proventical children.\"\n",
            "\n",
            "\"You know it would be,\" said Sergey\n",
            "Ivanovitch as he had not seen\n",
            "her, \"how she's always all that has the conversation is the supper one true, and what's that then ask I have been but in the same\n",
            "of the prince so working to him is not any now. I\n",
            "stoped. If you know that how are the\n",
            "women's candenting the peepen is nothing as in the distances. And\n",
            "have you will call to this\n",
            "way.\"\n",
            "\n",
            "\"When the man's\n",
            "actust of the stall,\" said Sergey Ivanovitch and heard the merely smort,\n",
            "while\n",
            "he said, already, better and\n",
            "seeing him,\n",
            "and, was a count, the same short, the previous wead to\n",
            "see his world to the provens, though the master was\n",
            "till then he winted the consideri\n"
          ]
        }
      ],
      "source": [
        "# Sample using a loaded model\n",
        "print(sample(loaded, 2000, top_k=5, prime=\"And Levin said\"))"
      ]
    },
    {
      "cell_type": "code",
      "execution_count": null,
      "metadata": {
        "collapsed": true,
        "id": "fTl0yDNYsbPI"
      },
      "outputs": [],
      "source": []
    }
  ],
  "metadata": {
    "kernelspec": {
      "display_name": "Python 3",
      "name": "python3"
    },
    "language_info": {
      "codemirror_mode": {
        "name": "ipython",
        "version": 3
      },
      "file_extension": ".py",
      "mimetype": "text/x-python",
      "name": "python",
      "nbconvert_exporter": "python",
      "pygments_lexer": "ipython3",
      "version": "3.6.4"
    },
    "colab": {
      "provenance": [],
      "include_colab_link": true
    }
  },
  "nbformat": 4,
  "nbformat_minor": 0
}